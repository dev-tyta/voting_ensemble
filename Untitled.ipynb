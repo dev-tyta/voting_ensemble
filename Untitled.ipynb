{
 "cells": [
  {
   "cell_type": "code",
   "execution_count": 1,
   "metadata": {},
   "outputs": [],
   "source": [
    "import pandas as pd \n",
    "import seaborn as sns \n",
    "import matplotlib.pyplot as plt\n",
    "import numpy as np"
   ]
  },
  {
   "cell_type": "code",
   "execution_count": 2,
   "metadata": {},
   "outputs": [],
   "source": [
    "train = pd.read_csv('train.csv', )\n",
    "test = pd.read_csv('test.csv', )"
   ]
  },
  {
   "cell_type": "code",
   "execution_count": null,
   "metadata": {},
   "outputs": [],
   "source": [
    "for columns in train.columns"
   ]
  },
  {
   "cell_type": "code",
   "execution_count": 4,
   "metadata": {},
   "outputs": [],
   "source": [
    "X= null_train.drop(['target','id'], axis= 1 )"
   ]
  },
  {
   "cell_type": "code",
   "execution_count": 5,
   "metadata": {},
   "outputs": [],
   "source": [
    "y = null_train.target"
   ]
  },
  {
   "cell_type": "code",
   "execution_count": 6,
   "metadata": {},
   "outputs": [],
   "source": [
    "from sklearn.preprocessing import LabelEncoder\n",
    "for colname in X.select_dtypes('object'):\n",
    "    lab = LabelEncoder()\n",
    "    X[colname] = lab.fit_transform(X[colname])"
   ]
  },
  {
   "cell_type": "code",
   "execution_count": 7,
   "metadata": {},
   "outputs": [],
   "source": [
    "discrete_value = X.dtypes == int"
   ]
  },
  {
   "cell_type": "code",
   "execution_count": 8,
   "metadata": {},
   "outputs": [],
   "source": [
    "from sklearn.feature_selection import mutual_info_regression\n",
    "def make_miscores(X, y, discrete_features):\n",
    "    mi_scores = mutual_info_regression(X, y, discrete_features = discrete_features)\n",
    "    mi_scores = pd.Series(mi_scores, name=\"MI Scores\", index= X.columns)\n",
    "    mi_scores = mi_scores.sort_values(ascending = False)\n",
    "    return mi_scores"
   ]
  },
  {
   "cell_type": "code",
   "execution_count": 9,
   "metadata": {},
   "outputs": [],
   "source": [
    "mi_scores = make_miscores(X, y, discrete_value)"
   ]
  },
  {
   "cell_type": "code",
   "execution_count": 10,
   "metadata": {},
   "outputs": [
    {
     "data": {
      "text/plain": [
       "CTR_OBLDLI      0.255736\n",
       "TVA_MNTPAY      0.250996\n",
       "SND_MNTPRD_E    0.194700\n",
       "TVA_CRDFIN      0.191954\n",
       "ACT_CODACT      0.179752\n",
       "CTR_OBLTVI      0.165873\n",
       "TVA_CHAFF7      0.149643\n",
       "TVA_BASEQI      0.127553\n",
       "TVA_BASAUI      0.119669\n",
       "TVA_MTDJRTVA    0.115725\n",
       "TVA_BASAUL      0.115470\n",
       "TVA_MOIFIN      0.113790\n",
       "BCT_CODBUR      0.111022\n",
       "TVA_CHAF12      0.107504\n",
       "TVA_TOTDUE      0.095411\n",
       "TVA_CHAF18      0.093152\n",
       "TVA_DEDAUL      0.083583\n",
       "SND_MNTTVA_E    0.077846\n",
       "TVA_CAFSUS      0.076853\n",
       "TVA_CA132018    0.076274\n",
       "Name: MI Scores, dtype: float64"
      ]
     },
     "execution_count": 10,
     "metadata": {},
     "output_type": "execute_result"
    }
   ],
   "source": [
    "mi_scores.head(20)"
   ]
  },
  {
   "cell_type": "code",
   "execution_count": 11,
   "metadata": {},
   "outputs": [],
   "source": [
    "def plot_mi_scores(scores):\n",
    "    scores =scores.sort_values(ascending = True)\n",
    "    width = np.arange(len(scores))\n",
    "    ticks = list(scores.index)\n",
    "    plt.barh(width, scores)\n",
    "    plt.yticks(width, ticks)\n",
    "    plt.title('Mutual Information Score')"
   ]
  },
  {
   "cell_type": "code",
   "execution_count": 12,
   "metadata": {},
   "outputs": [
    {
     "data": {
      "image/png": "[encoded data removed]",
      "text/plain": [
       "<Figure size 432x288 with 1 Axes>"
      ]
     },
     "metadata": {
      "needs_background": "light"
     },
     "output_type": "display_data"
    }
   ],
   "source": [
    "mi_scores = mi_scores[:20]\n",
    "plot_mi_scores(mi_scores)"
   ]
  },
  {
   "cell_type": "code",
   "execution_count": 13,
   "metadata": {},
   "outputs": [
    {
     "data": {
      "text/plain": [
       "Index(['CTR_OBLDLI', 'TVA_MNTPAY', 'SND_MNTPRD_E', 'TVA_CRDFIN', 'ACT_CODACT',\n",
       "       'CTR_OBLTVI', 'TVA_CHAFF7', 'TVA_BASEQI', 'TVA_BASAUI', 'TVA_MTDJRTVA',\n",
       "       'TVA_BASAUL', 'TVA_MOIFIN', 'BCT_CODBUR', 'TVA_CHAF12', 'TVA_TOTDUE',\n",
       "       'TVA_CHAF18', 'TVA_DEDAUL', 'SND_MNTTVA_E', 'TVA_CAFSUS',\n",
       "       'TVA_CA132018'],\n",
       "      dtype='object')"
      ]
     },
     "execution_count": 13,
     "metadata": {},
     "output_type": "execute_result"
    }
   ],
   "source": [
    "mi_scores.index"
   ]
  },
  {
   "cell_type": "code",
   "execution_count": 28,
   "metadata": {},
   "outputs": [],
   "source": [
    "new_data = train[mi_scores.index]"
   ]
  },
  {
   "cell_type": "code",
   "execution_count": 29,
   "metadata": {},
   "outputs": [
    {
     "data": {
      "text/plain": [
       "(21295, 20)"
      ]
     },
     "execution_count": 29,
     "metadata": {},
     "output_type": "execute_result"
    }
   ],
   "source": [
    "new_data.shape"
   ]
  },
  {
   "cell_type": "code",
   "execution_count": 32,
   "metadata": {},
   "outputs": [
    {
     "name": "stdout",
     "output_type": "stream",
     "text": [
      "<class 'pandas.core.frame.DataFrame'>\n",
      "RangeIndex: 21295 entries, 0 to 21294\n",
      "Data columns (total 20 columns):\n",
      " #   Column        Non-Null Count  Dtype  \n",
      "---  ------        --------------  -----  \n",
      " 0   CTR_OBLDLI    21285 non-null  float64\n",
      " 1   TVA_MNTPAY    19605 non-null  float64\n",
      " 2   SND_MNTPRD_E  1231 non-null   float64\n",
      " 3   TVA_CRDFIN    19605 non-null  float64\n",
      " 4   ACT_CODACT    21295 non-null  int64  \n",
      " 5   CTR_OBLTVI    21285 non-null  float64\n",
      " 6   TVA_CHAFF7    19605 non-null  float64\n",
      " 7   TVA_BASEQI    19605 non-null  float64\n",
      " 8   TVA_BASAUI    19605 non-null  float64\n",
      " 9   TVA_MTDJRTVA  19605 non-null  float64\n",
      " 10  TVA_BASAUL    19605 non-null  float64\n",
      " 11  TVA_MOIFIN    19605 non-null  float64\n",
      " 12  BCT_CODBUR    21295 non-null  int64  \n",
      " 13  TVA_CHAF12    19605 non-null  float64\n",
      " 14  TVA_TOTDUE    19605 non-null  float64\n",
      " 15  TVA_CHAF18    19605 non-null  float64\n",
      " 16  TVA_DEDAUL    19605 non-null  float64\n",
      " 17  SND_MNTTVA_E  1231 non-null   float64\n",
      " 18  TVA_CAFSUS    19605 non-null  float64\n",
      " 19  TVA_CA132018  19605 non-null  float64\n",
      "dtypes: float64(18), int64(2)\n",
      "memory usage: 3.2 MB\n"
     ]
    }
   ],
   "source": [
    "new_data.info()"
   ]
  },
  {
   "cell_type": "code",
   "execution_count": null,
   "metadata": {},
   "outputs": [],
   "source": [
    "new_data.]"
   ]
  }
 ],
 "metadata": {
  "kernelspec": {
   "display_name": "Python 3",
   "language": "python",
   "name": "python3"
  },
  "language_info": {
   "codemirror_mode": {
    "name": "ipython",
    "version": 3
   },
   "file_extension": ".py",
   "mimetype": "text/x-python",
   "name": "python",
   "nbconvert_exporter": "python",
   "pygments_lexer": "ipython3",
   "version": "3.8.5"
  }
 },
 "nbformat": 4,
 "nbformat_minor": 4
}
